{
 "cells": [
  {
   "cell_type": "code",
   "execution_count": null,
   "id": "8236b5fd-2479-43df-ab19-abf76cdc02b2",
   "metadata": {},
   "outputs": [],
   "source": [
    "import pandas as pd\n",
    "import matplotlib.pyplot as plt\n",
    "import seaborn as sns\n",
    "\n",
    "motor_train = pd.read_csv('motor_train.csv')\n",
    "motor_test = pd.read_csv('motor_test.csv')\n",
    "\n",
    "motor_train.head(10)\n",
    "motor_test.head(10)\n"
   ]
  }
 ],
 "metadata": {
  "kernelspec": {
   "display_name": "Python 3 (ipykernel)",
   "language": "python",
   "name": "python3"
  },
  "language_info": {
   "codemirror_mode": {
    "name": "ipython",
    "version": 3
   },
   "file_extension": ".py",
   "mimetype": "text/x-python",
   "name": "python",
   "nbconvert_exporter": "python",
   "pygments_lexer": "ipython3",
   "version": "3.10.13"
  }
 },
 "nbformat": 4,
 "nbformat_minor": 5
}
